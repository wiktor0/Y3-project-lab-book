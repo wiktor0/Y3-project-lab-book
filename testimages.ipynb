{
 "cells": [
  {
   "cell_type": "markdown",
   "metadata": {},
   "source": [
    "# Test Image\n",
    "\n",
    "![AM0.png](https://raw.githubusercontent.com/wiktor0/Y3-project-lab-book/main/AM0.png)"
   ]
  }
 ],
 "metadata": {
  "language_info": {
   "name": "python"
  }
 },
 "nbformat": 4,
 "nbformat_minor": 2
}
