{
 "cells": [
  {
   "cell_type": "markdown",
   "metadata": {},
   "source": [
    "# Week 1 (05/10/23): Find a range of Air Mass (AM) values as a function of the solar spectrum \n",
    "-  To start off, we had a prime aim of finding out how perovskite solar cells can achieve optimal output with varying geographical considerations. A database was used to determine the maximum potential energy for silicon solar cells around the world (https://globalsolaratlas.info/map), inferring why solar cells of different band gaps would be useful\n",
    "- Used this website as guidance to theoretical concepts for solar cells, semiconductors and sunlight (https://www.pveducation.org/)\n",
    "- Found a software called SMARTS which enabled to get data for various AM values\n",
    "- Plotted solar spectrum against wavelength for AM1.0- AM2.0 in 0.25 increments, using Global tilted irradiance (W/m^2/nm) on y-axis and wavelength (nm) on x-axis and used a useful paper to help do so (https://doi.org/10.1016/j.solmat.2014.10.037)\n",
    "![image.png](Irradiance(AM).png)\n",
    "\n",
    "\n",
    "\n",
    "\n"
   ]
  },
  {
   "cell_type": "markdown",
   "metadata": {},
   "source": []
  },
  {
   "cell_type": "markdown",
   "metadata": {},
   "source": [
    "# Week 2 (12/10/23): Working out Open Circuit Voltage $V_{oc}$ as a function of bandgap (eV)\n",
    "- Started off the week by adding each of the txt files gained from SMARTS for the range of AM values into the repository\n",
    "- Created functions to find the minimum value of a diodes saturation current($J_{o}$) and one to find $V_{oc}$. These both inputted parameters and variables that needed to be researched with papers due to no previous knowledge.\n",
    "- After researching a number of papers trying to find those with similar experimental outcomes as desired here, finding the link between $V_{oc}$ and Global solar irradiance from the previous week.\n",
    "- Hit a roadblock and was unsure how the source (https://www.pveducation.org/pvcdrom/solar-cell-operation/open-circuit-voltage) got to the last step. Due to this I emailed the academics who wrote it for advice.\n",
    "- Successfully plotted AM0 however the rest didn't form the correct shape (wasn't meant to be linear for AM2.0)\n",
    "- Need a better idea about things such as quantum efficiency and spectral resolution before knowing how to plot the other AMs\n",
    "- Now will read a thesis on 'the physics of solar cells' provided by my project lead to help overcome these hurdles for the next steps in the project\n",
    "\n"
   ]
  },
  {
   "cell_type": "markdown",
   "metadata": {},
   "source": []
  },
  {
   "cell_type": "markdown",
   "metadata": {},
   "source": [
    "# Week 3 (19/10/23): Continuing on and building on the theory\n",
    "- Made notes on the thesis\n",
    "- To note, in this experiment, the ideality factor will be used as n=1 to avoid uneccesary complexity. This means that the solar cell data will be for the ideal operation conditions at the specific AM and band gap.\n",
    "- Looked into papers on MXenes (added to mendeley) and how they are able to increase the electrical output in PSCs by reducing the recombination rate but unfortunately these papers didn't help towards the road block previously explained\n",
    "- Still unsure where to go with the code to obtain the plots for the rest of the AMs; need a better value for External quantum Efficiency (EQE) currently using 0.8 and need a better idea on spectral response. I think that it would greatly change throughout band gaps thus its not possible to progress until this matter is resolved.\n",
    "\n"
   ]
  },
  {
   "cell_type": "markdown",
   "metadata": {},
   "source": [
    "# Week 4 (26/10/23): Understanding the theory of EQE and clarifying experimental conditions\n",
    "- Realised that the papers on the MXenes added confusion hence wont be mentioned further as they did not help\n",
    "- We're starting with the assumption that conditions are optimal for the PSCs and working from there\n",
    "- The process of designing these PSCs will involve assuming that all of the recombination happening in the cell is radiative. (The recombination rate is when a light-generated electron recombines with a hole to produce a photon. A low value hence raises efficiency)\n",
    "\n",
    "- Will be incorporating colour-blind friendly colours for graphs and colour themes for temperature gradients for heat maps\n",
    "- $J_{o}$= $J_{o{_rad}}$= q\\int\\limits_0^\\infty EQE(\\lambda)\\varphi_B_B^^300(\\lambda)d\\lambda$"
   ]
  }
 ],
 "metadata": {
  "kernelspec": {
   "display_name": "Python 3",
   "language": "python",
   "name": "python3"
  },
  "language_info": {
   "codemirror_mode": {
    "name": "ipython",
    "version": 3
   },
   "file_extension": ".py",
   "mimetype": "text/x-python",
   "name": "python",
   "nbconvert_exporter": "python",
   "pygments_lexer": "ipython3",
   "version": "3.10.8"
  }
 },
 "nbformat": 4,
 "nbformat_minor": 2
}
