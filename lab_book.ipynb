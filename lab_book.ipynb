{
 "cells": [
  {
   "cell_type": "code",
   "execution_count": null,
   "metadata": {},
   "outputs": [],
   "source": []
  },
  {
   "cell_type": "markdown",
   "metadata": {},
   "source": [
    "# Week 1: Find a range of Air Mass (AM) values as a function of the solar spectrum \n",
    "- To start off we were given a brief introductionary file which included some sources. This included a database showcasing the maximum potential power for silicon solar cells in different locations. The key point was to understand that silicon has a bandgap of 1.1eV whereas perovskite solar cells have band gaps ranging from 1.2-2.0eV. This leads on to the fact that different locations "
   ]
  },
  {
   "cell_type": "markdown",
   "metadata": {},
   "source": [
    "# Week 2: Working out Open Circuit Voltage $V_{oc}$ as a function of bandgap\n",
    "\n",
    "\n"
   ]
  }
 ],
 "metadata": {
  "kernelspec": {
   "display_name": "Python 3",
   "language": "python",
   "name": "python3"
  },
  "language_info": {
   "codemirror_mode": {
    "name": "ipython",
    "version": 3
   },
   "file_extension": ".py",
   "mimetype": "text/x-python",
   "name": "python",
   "nbconvert_exporter": "python",
   "pygments_lexer": "ipython3",
   "version": "3.10.8"
  }
 },
 "nbformat": 4,
 "nbformat_minor": 2
}
