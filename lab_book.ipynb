{
 "cells": [
  {
   "cell_type": "markdown",
   "metadata": {},
   "source": [
    "# Week 1: Find a range of Air Mass (AM) values as a function of the solar spectrum \n",
    "-  To start off, we had a prime aim of finding out how perovskite solar cells can achieve optimal output with varying geographical considerations. A database was used to determine the maximum potential energy for silicon solar cells around the world (https://globalsolaratlas.info/map), inferring why solar cells of different band gaps would be useful\n",
    "- Used this website as guidance to theoretical concepts for solar cells, semiconductors and sunlight (https://www.pveducation.org/)\n",
    "- Plotted solar spectrum for each airmass, using Global tilted irradiance (W/m^2/nm) on y-axis and wavelength (nm) on x-axis and used a useful paper to help do so (https://doi.org/10.1016/j.solmat.2014.10.037)\n",
    "![image.png](Irradiance(AM).png)\n",
    "\n"
   ]
  },
  {
   "cell_type": "markdown",
   "metadata": {},
   "source": []
  },
  {
   "cell_type": "code",
   "execution_count": null,
   "metadata": {},
   "outputs": [],
   "source": []
  },
  {
   "cell_type": "markdown",
   "metadata": {},
   "source": [
    "# Week 2: Working out Open Circuit Voltage $V_{oc}$ as a function of bandgap\n",
    "\n",
    "\n"
   ]
  }
 ],
 "metadata": {
  "kernelspec": {
   "display_name": "Python 3",
   "language": "python",
   "name": "python3"
  },
  "language_info": {
   "codemirror_mode": {
    "name": "ipython",
    "version": 3
   },
   "file_extension": ".py",
   "mimetype": "text/x-python",
   "name": "python",
   "nbconvert_exporter": "python",
   "pygments_lexer": "ipython3",
   "version": "3.10.8"
  }
 },
 "nbformat": 4,
 "nbformat_minor": 2
}
