{
 "cells": [
  {
   "cell_type": "markdown",
   "metadata": {},
   "source": [
    "# General project information and intentions\n",
    "Solar cells have been a key area of development for many years now, but their effectiveness is greatly dependent on the location that they are placed in. They are primarily consisted of Silicon, a semicondutor with a band gap of around 1.1eV. A key limitation is this small band gap range, where if increased, the electrical output could be higher, even in locations where less solar radiation finds its way to the Earth's surface. This is why we are working towards designing Perovskite Solar Cells (PSCs), a new and emerging technology which can utilise a larger range of band gaps than other convential SCs. \n",
    "\n",
    "# What Perovskites are, their potential, and how photovoltaic (PV) cells work\n",
    "A mineral consisting of Calcium, Titanium and Oxygen. This composite can be placed into a photovoltaic layer and influence the electrical properties of the whole solar cell in unique ways which will be investigated throughout this project. PVs are usually described as having a 'sandwich' of layers comprising them, with semiconductors driving the conversion of sunlight, with one electron heavy layer, and one primarily with holes due to doping. Holes are considered to be an 'absense of an electron', or alternatively a positively charged quasiparticle. When incident radiation passes through to these oppositely charged layers, electrical energy can be transferred to the anode and cathode layers due to recombination. This is essentially electrons and holes colliding. Since these are oppositely charged they repel, so once they collide their electrostatic repulsion gets converted to the previously mentioned electricity. \n",
    "\n",
    "In the case of conventional PV cells consisting of Silicon, the positive and negative semiconducting layers must be made thick to raise the chances of liberating an electron. This leads to higher production costs since a substantial amount of material must be used in production. On the other hand, PSCs do not require an additional photon to liberate an electron into the anode-cathode layers of the solar cell, meaning they can be made thin, hence slicing the manufacturing costs. Pair this with a larger range of absorption spectra and a more tolerant crystalline strcture to defects, perovskites can generate much more bang for their buck over their lifetime. \n",
    "\n",
    "# Recombination rate and quantum efficiency\n",
    "- For this experiment since we are assuming ideal conditions to start with, we assume that all recombination is purely radiative. This means that ALL of the energy from the electron-hole collision is used to move them to the anode-cathode layers, further flowing to the electrical store. In real life this is not the case, and instead there is excess energy that produces photons and lowers the quantum efficiency (QE) of the system. This stems from numerous related factors such as raising the temperature of the cell, whereas ours is kept constant at 300K, meaning that quantum properties of electrons are kept the same throughout. QE is defined as the ratio of the number of electrons in the external circuit produced by an incident photon of a given wavelength.\n",
    "\n",
    "# Semiconductors, band gaps and background information\n",
    "- The band gap is the minimum energy needed to attain an excited state for an electron. Once in this state, an electron can propogate through the solar cell and contribute to the electrical output.\n",
    "\n",
    "Semiconductors are a special type of material where the flow of current can be controlled and managed inside of electronic devices. In our case, this is SCs. The electrons in semiconductors are easily able to jump this energy gap and the electron concentration can be changed in each band by doping. This is the process of adding impurities, increasing conductivity massively plus creating unique optical and optical properties. Without this the solar industry would not exist. \n",
    "\n",
    "It is known that a narrow bandgap absorbs all light across a spectrum and produces high current BUT the voltage across the gap is small. On the otherhand, for a large band gap a high voltage is produced but can only absorb a small spectrum of light. This means that for a specific location a PSC with an optimal band gap can be deduced through experimentation and increase the electrical output, thus offsetting costs sooner by raising the electrical efficiency. We will be concerned with band gaps in the range 1.0-2.0eV. \n",
    "\n",
    "The intensity of radiation from the sun follows an inerse-sqaure law with distance in a vacuum, where obviously there is no air, hence air mass (AM) holds a value of AM0 before photons enter the atmosphere(The solar constant holds a value of 1367Wm<sup>-2</sup>). However, once they enter there are more factors at play since the photons now lose some energy with air and dust molecules now being in the medium. In this experiment AM values will range from 1.0-2.0 in intervals of 0.25.\n",
    "\n",
    "The average location based radiation is hence different depending on where you are, but is a combination of direct, diffuse and albedo radiation that finds its way to the surface. AM values depend on humidity and climate, where larger AM values can be interpreted as the light having to travel through more air molecules. When this is the case, the white light has MORE of its constituent colours absorbed and scattered by the atompshere than at thinner atmospheres. This leads to a varied spectral content arriving at the PSCs.\n",
    "\n",
    "Solar irradiance as a function of wavelength hence will be plotted to later find a continuum of open circuit voltages. Further down the line, this voltage will be plotted against a range of band gap values to see where it peaks for each AM (voltage used as a metric to compare the location based data). Although it is too early to state exactly what will be done throughout at this early stage, the data of interest will likely be plotted on a heat map of the world to illustrate the findings for the later assessed stages of the project. Each subsequent entry will explain any updated motives to the progression of the project.\n",
    "\n",
    "# Preliminary experimental expectations\n",
    "- As AM increases, the solar irradiance peak shifts towards longer wavelengths due to Rayleigh scattering.\n",
    "\n"
   ]
  },
  {
   "cell_type": "markdown",
   "metadata": {},
   "source": [
    "# Project planning (Short, medium and long term)\n",
    "- Short: these plans of action will primarily consist of the outcomes of the (nearly) weekly meetings with Alex. Anything from a day to a week falls under this category and usually is a query resolvable in this timeframe, enabling progression to the next goal.\n",
    "- Medium: More than a week but less that a semester long. These consist of queries or workloads that take more time and effort that the short term ones, and are marked once or twice per semester depending on progression. The first one is ideally where we'd like to be before the christmas break, so that we have time to focus on exams etc. \n",
    "- Long: The ideal outcome of the year long project that will be indicated a few weeks into the first semester once a clear picture/idea can be painted for where we want to arrive with it in the end. This may be updated in the second semester if plans change, and even have goals added to the initial ideas if progression is fast enough. "
   ]
  },
  {
   "cell_type": "markdown",
   "metadata": {},
   "source": [
    "# Week 1 (05/10/23): Find a range of Air Mass (AM) values as a function of the solar spectrum \n",
    "- To start off, the prime aim is finding out how perovskite solar cells can achieve optimal output with varying geographical considerations. A database was used to determine the maximum potential energy for silicon solar cells around the world (https://globalsolaratlas.info/map). This is why we will aim to compare the PSCs to conventional silicon based ones.\n",
    "- Used this website as guidance to theoretical concepts for solar cells, semiconductors and sunlight (https://www.pveducation.org/). It helps to understand the theory of how SCs behave differently if their band gaps are higher.\n",
    "- Found a software called SMARTS which enabled to get data for various AM values. This is a useful software that was designed to analyse radiative transfer of sunshine through planetary atomspheres, ultimately predicting surface solar irradiance and can obtain many more parameters too.\n",
    "- Plotted solar spectrum against wavelength for AM1.0- AM2.0 in 0.25 increments, using Global tilted irradiance (Wm<sup>-2</sup>nm<sup>-1</sup>) on y-axis and wavelength (nm) on x-axis and used a useful paper to help do so (https://doi.org/10.1016/j.solmat.2014.10.037). This step was importance because it allows us to graphically illustrate the influence that humidity and temperatures have on a photon's path to the Earth's surface.\n",
    "![image.png](Irradiance(AM).png)\n",
    "\n",
    "\n",
    "\n",
    "\n"
   ]
  },
  {
   "cell_type": "markdown",
   "metadata": {},
   "source": []
  },
  {
   "cell_type": "markdown",
   "metadata": {},
   "source": [
    "# Week 2 (12/10/23): Working out Open Circuit Voltage $V_{oc}$ as a function of bandgap (eV)\n",
    "- Started off the week by adding each of the txt files gained from SMARTS for the range of AM values into the repository to be able to use $V_{oc}$ as a metric to show its influence on bandgaps.\n",
    "- Created functions to find the minimum value of a diode's saturation current density($J_{o}$) and one to find $V_{oc}$. These both inputted parameters and variables that needed to be researched with papers due to no previous knowledge. $V_{oc}$ is defined as the maximum voltage available from a solar cell, occuring at zero current. The equation for $V_{oc}$ is given by:\n",
    "$$V_{oc} = (kT / q)log(J_G / J_o + 1)$$\n",
    "- $J_{G}$ is the generated current density, sometimes referred to as light generated current, involves two key processes. The first being the absorption of incident photons creating electron-hole pairs (explained previously). The second is the seperation of these charge carriers between the p-n junction such that if the emitter and base of the SC are connected (i.e the SC is short circuited), the light-generated electrons flow through the external layer to be captured in a store. Each of these current densities have units of Am<sup>-2.\n",
    "- After researching a number of papers trying to find those with similar experimental outcomes as desired here, it was found that none of them had the same aims.\n",
    "- Hit a roadblock and was unsure how the source (https://www.pveducation.org/pvcdrom/solar-cell-operation/open-circuit-voltage) got to the last step. Due to this I emailed the academics who wrote it for advice.\n",
    "- Successfully plotted AM0 however the rest didn't form the correct shape (wasn't meant to be linear for AM2.0)\n",
    "![image.png](AM0.png)\n",
    "- Need a better idea about things such as QE and spectral resolution before knowing what behaviours the other AM plots are supposed to hold.\n",
    "- Now will read and make notes on a thesis: 'the physics of solar cells' provided by my project lead to help overcome these hurdles for the next steps in the project.\n",
    "\n"
   ]
  },
  {
   "cell_type": "markdown",
   "metadata": {},
   "source": []
  },
  {
   "cell_type": "markdown",
   "metadata": {},
   "source": [
    "# Week 3 (19/10/23): Continuing on and building on the theory\n",
    "- The thesis notes helped me understand that $V_{oc}$ has a single value for a given EQE at a given wavelength because EQE gives the ratio of incident photons to extracted electron-hole pairs. Next week I will be aiming to use the theory of EQE in SCs in order to find the ratio of J<sub>G</sub> and J<sub>o</sub> to find a set of V_{oc}$ values as shown by the $V_{oc}$ equation above.\n",
    "- To note, in this experiment, the ideality factor will be used as n=1 to avoid uneccesary complexity. This means that the solar cell data will be for the ideal operation conditions at the specific AM and band gap where fluctuations from factors such as temperature are not constantly affecting SC output.\n",
    "- Looked into papers on MXenes and how they are able to increase the electrical output in PSCs by reducing the recombination rate but unfortunately these papers didn't help towards the road block previously explained. (Papers of interest have either been logged in a shared mendeley repository, google drive or in github)\n",
    "- Still unsure where to go with the code to obtain the plots for the rest of the AMs; need a better value for external quantum efficiency (EQE) currently using 0.8 and need a better idea on spectral response. I think that it would greatly change throughout band gaps thus its not possible to progress until this matter is resolved.\n"
   ]
  },
  {
   "cell_type": "markdown",
   "metadata": {},
   "source": [
    "# Week 4 (26/10/23): Understanding the theory of EQE and clarifying experimental conditions\n",
    "- Realised that the papers on the MXenes added confusion hence wont be mentioned further as they did not help after realising they behave differently to the chemical composition of perovskites.\n",
    "- We're starting with the assumption that conditions are optimal for the PSCs and working from there\n",
    "- The process of designing these PSCs will involve assuming that all of the recombination happening in the cell is radiative. (The recombination rate is when a light-generated electron recombines with a hole to produce a photon. A low value hence raises efficiency) Below is an equation for the saturated current $J_{o}$. The blackbody (BB) spectra is taken at room temperature (300K) hence kept constant for reasons previously stated.\n",
    "$$ J_{o}=q \\int\\limits_0^\\infty EQE(\\lambda) \\varphi_{BB}(\\lambda) d\\lambda $$\n",
    "- Since we are assuming that all recombination is radiative, the previous holds equivalence to:\n",
    "$$ J_{rad}=q \\int\\limits_0^\\infty EQE(\\lambda) \\varphi_{BB}(\\lambda) d\\lambda $$\n",
    "- EQE as a function of $\\lambda$ is a step function. Our assumption assumes that energies are greater than $E_{g}$ (all is absorbed and hence only radiative recombination occurs as mentioned above) and if they are smaller than $E_{g}$ they pass through. (What if I could make a more accurate assumption for my report?). First convert $E_{g}$ to $\\lambda$ then create step functions for each set of AM data to achieve the plots of $V_{oc}$ against $E_{G}$. Since this is a step function, all energies above the band gap are absorbed and converted into electricity when EQE=1. Unlike in week 3 where we used a value of 0.8, a value of 1 holds true the equations above being equal. This step is a big assumption and in the report I will be talking about how deviating from ideal values would impact outcomes. Below shows this step function for bandgaps:\n",
    "![image.png](steps1.png)\n",
    "# (27/10/23)\n",
    "- Below is a plot of $V_{oc}$ against $E_{g}$ whilst using this new EQE condition of it being a step function.\n",
    "![image.png](V-Eg.png)\n",
    "- For the report I could potentially choose 1 band gap and talk about how the data compares in different locations. Even though the reader would know that the idealised conditions are not attained in real life, they could still see where the ideal location/s are for the PSC in question. Later could compare to a Si based cell. Justify the limits chosen for the EQE such as $\\lambda$, since PSCs can not capture wavelengths past a certain limit.\n",
    "- Remember that we want to use $V_{oc}$ as a metric to compare location based data.\n",
    "- Will be incorporating colour-blind friendly colours for graphs and colour themes for temperature gradients for heat maps.\n"
   ]
  },
  {
   "cell_type": "markdown",
   "metadata": {},
   "source": [
    "# Week 5 (30/10/23): The method follows theory for ideal conditions, but will we see the anticipated deviations if we move to a more realistic set of conditions?\n",
    "- The plot that we obtained for $V_{oc}$ against $E_{g}$ above seems to behave like the one presented by the researchers (https://www.pveducation.org/). This infers that our method is correct so far, however the project outcomes may have to be changed if for 1.2-2eV there is hardly any difference for $V_{oc}$ at all of the AMs. As expected, at very high band gaps there is a swift drop in $V_{oc}$, and for a higher AM it drops off first w.r.t lower AMs. This checks out with the theory because as $V_{oc}$ increases with $E_{g}$, the recombination current falls to zero. \n",
    "- Alex expected this difference to be much more apparent across the 1.2-2.0eV range since the band gap for perovskites is 1.55eV, however it seems not (at ideal conditions anyway). The confusing part is that the method used applies to all solar cells, not just PSCs, so could there be clues as to why there are hardly any fluctuations between the AMs in the original imported SMARTS data?\n",
    "- Naturally $J_{o}$ should stay the same whereas $J_{G}$ and $V_{oc}$ slightly change for each plot. This is shown by the plot below:\n",
    "![image.png](Jg.png)\n",
    "# What could be made more realistic in our approach, and next steps?\n",
    "- Changing the value of EQE by considering non-readiative recombination; how would changing it to 0.9,0.8... do to the shape of the plots?\n",
    "- Take a look at NREL PV charts again to understand how crystalline structure plays a role on PV efficiency.\n",
    "- The perovskite database; check SC efficiency tables to help understand what sort of values to expect based on real published data. With all of this said, the aim is to see whether or not the plots for the different AMs would change for a less idealistic stance.\n",
    "- Consider shunt resistances, these are typically due to manufacturing defects rather than poor SC design, hence useful for lab report.\n",
    "- TODO: Before next meeting on 20/11 find out why perovskites have a higher bangdap to silicon.\n",
    "\n",
    "\n"
   ]
  },
  {
   "cell_type": "markdown",
   "metadata": {},
   "source": [
    "# Reading week and week 7 (11/11/23): Using the perovskite database and continuing on from previous points to make a more realistic method"
   ]
  },
  {
   "cell_type": "markdown",
   "metadata": {},
   "source": [
    "- After waiting a few days we were able to gain access to the perovskite database. This holds countless different sources for this technology and can be filtered down to the desired ones. In our case, we had to check through research paper DOIs that include measured EQE and $J_{sc}$. After we filtered each of these into an Excel spreadsheet, we checked through a wide range of them for graphs with EQE(%) -wavelength(nm) and imported the graphs into **webplot digitiser** to extract the data. This was done for a wide range of EQEs to better understand how much it can influence results such as $V_{oc}$ at different AM values.\n",
    "- Although the optimal band gap for perovskites is around 1.55eV, we wanted to work with as many as possible and filter down our range if needed in the end. Another factor that plays a role in EQE values at a given wavelength is the type of perovskite used for the experiment. There was a wide range of things that they solar cells were doped with, hence in future it may be important to try get only a single type of perovskite.\n",
    "\n",
    "# (15/11/23) Understanding perovskite compositions/ notations (A, B and X sites)\n",
    "- Each composition consists of several components that contribute to the overall structure and functionality of the cell;\n",
    "1. A- site cation (A) represents a positively charged ion which, depending on choice, influences the stability, bandgap and other optoelectronic properties\n",
    "2. Metal cation (B): usually lead based (Pb) due to its great optoelectric properties and is surrounded by the negatively charged ions, helping stability in the material. The stability stems from charge neutrality, coordination and close packing factor, ionic bonding which hold the structure together and the octohedral framework due to the efficient packing factor of the +ve and -ve charges. \n",
    "3. Halide anion (X): Halide compositions can be tuned to optimise the absorption spectrum to match the solar spectrum of a particular location and improve mechanical efficiency. This tuning process involves varying the ratios of iodide(I^), bromide(Br^), and chloride(Cl^) ions during the fabrication process of the perovskite films.\n",
    "- The result forms a crystalline lattice structure, forming the perovskite material. The arrangement of the metal cation between the negatively charged halide ions forms a stability that isn't only crucial in PSCs, but also LEDs and other optoelectric materials. Hysteresis is the process where stability of the lattice will depreciate due to various unfavoured processes such as ferroelectric polarisation.\n",
    "# Graphing real EQE values from the perovskite database\n",
    "- Below are the illustrated outcomes for the first two papers that we checked with Pb-Sn in the B layer:\n",
    "![image.png](Voc_Eg.png)\n",
    "- Initially, confusion arose due to the filtered papers using ABX3 notation rater than chemical compositions like the database provided, however rpoblem has now been resolved.\n",
    "# Week 7 (17/11/23) Investigating MAPbI3 and FAPbI3 at different bandgaps \n",
    "- These seem to be good options to begin with as they are extensively studied thus the perovskite database provides an abundance of papers to include.\n",
    "- Even though many of the referenced papers have EQE data with varying amounts of data points, our code interpolates it and the resulting plot for the first few papers is below:\n",
    "![image.png](MAPBI3.png)\n",
    "- Even though all of the papers investigated at standard test conditions, our code calculated the additional AM values with the theoretical equations previously mentioned. This seems to agree with theoretical expectations because a lower AM corresponds to a higher $V_{oc}$ in each case. \n",
    "# Week 8 (20/11/23) Pre meeting thoughts \n",
    "- I reached a realisation that many of the papers I previously excluded could be used because MAPbI3 is equivalent to CH3NH3PbI3. This also made me realise that to investigate the trade off between $J_{sc}$ and $V_{oc}$ I should choose papers with widely varying $J_{sc}$. The following questions will be saved for the meeting later today:\n",
    "1. Is it ok to include data for different Jsc values on the same graph when comparing band gaps for the same technology?\n",
    "2. Is it useful to graph all AMs on the same plot or seperate them since by doing so it would make our findings much easier to decypher from the expected theoretical values?\n",
    "3. How exactly do you (Alex) want us to find this trade off? - is this the varying $V_{oc}$ values for the same band gap for the different integrated $J_{sc}$'s that the database gives us?\n",
    "**Some possible things that we could investigate further:**\n",
    "- How other atmospheric parameters affect SCs by using SMARTS\n",
    "- Investigate a wider range of technolgies OR focus on more specific aspects of a technology \n",
    "- How location affects SC parameters by using SMARTS\n",
    "- Making comparisons between our data and Si SCs\n",
    "# (22/11/23) Post meeting notes and plans to go forward \n",
    "- Form seperate plots between calculated data and reported data- i.e. keep AM constant for each plot and then compare what the paper states their $V_{oc}$ is given by with what we obtained\n",
    "- Take the EQE data found from the papers with a pinch of salt as they may have not calibrated their SCs properly: researchers are required to measure EQE for a range of wavelengths so that system losses due to for example internal reflection losses are accounted for\n",
    "# The physical significance of J-V characteristics\n",
    "- Knowing how J-V relate in PV cells gives a comprehensive picture on electrical characteristics under various conditions (such as temperature and illumination), which is key to finding **accurate** overall cell performance. From the curve, $V_{oc}$ is the value when the current is zero, and similarly, $J_{sc}$ is when the voltage is zero. Finally, the maximum point of inflection on this curve indicates the maximum power point(MPP) of the cell, which is the product of where current and voltage are maximised. In our analysis it is therefore important to look for clues that link to a higher MPP, as it suggests (for a given AM) that we are close to a more optimal spectral match for the PV bandgap, $E_{g}$<sup>PV</sup>. This parameter has its importance highlighted in Alex's publication (DOI: 10.1038/s41578-023-00610-9) in the section: measuring the performance of wide band-gap photovoltaics. **$E_{g}$<sup>PV**</sup> can be calculated from the EQE directly for a more accurate result so from now on we will use this in our method because the reason why some papers using the same technology but get varying results may be because they use the optical bandgap instead.\n",
    "# EQE spectra \n",
    "- Indicates the efficiency of a SC in converting photons to electrons at different wavelengths of incident light.\n",
    "- High EQE at a given wavelength indicates effective absorption and charge carrer generation which correlates to $E_{g}$<sup>PV</sup> and provides insight for optimal technologies\n",
    "# (23/11/23) Seperating simulated and reported values for each AM plot\n",
    "(10.1002/aenm.201902573) explains important theory that forms the basis of accuracy needed for the project aims.\n",
    "**is Urbach energy the term for the slight gap in energy that Alex drew on the board?? The paper above explains it if so and could be important for report**\n",
    "\n"
   ]
  },
  {
   "cell_type": "markdown",
   "metadata": {},
   "source": [
    "# Week 9 (27/11/23)- Rewriting the code to find the issue/s causing the low $J_{sc}$\n",
    "- After seeing how much the simulated values differed from the reported ones for $J_{sc}$ it was clear that something was either up with the code, or the data. After looking through each of the papers we chose from the database, against their corresponding EQE file, they were found to be fine. This is when I started to re-write the code in my way, hoping to find the problems from Tom's draft.\n",
    "# (28/11/23)\n",
    "- I had made the following plans before starting my code:\n",
    "1. Ensure that the wavelength spectra in the CSV file imported from SMARTS was read properly\n",
    "2. Confirm that everything was in the correct units and/or style, for example EQE in fractions not percentage\n",
    "3. Test each function that I write individually to see whether it produces values that make sense\n",
    "4. Check whether the interpolations are correct- 2002 lines of data in the AM1.5 spectra, so in each case 2002 interpolations needed for our code too\n",
    "import os\n",
    "import random\n",
    "import numpy as np\n",
    "import pandas as pd\n",
    "import matplotlib.pyplot as plt\n",
    "import scipy.constants as const\n",
    "from scipy.interpolate import interp1d\n",
    "from scipy.integrate import quad\n",
    "\n",
    "# Constants\n",
    "h = const.h  # Planck constant\n",
    "c = const.c # Speed of light\n",
    "k = const.k # Boltzmann constant\n",
    "q = const.e \n",
    "- An example of a function test is found in \"testmain.py\" and shows that the interpolation isn't the issue after I imported the cleaned spectrum file. However, the $J_{sc}$ was still to the power of -8. (The units on the y-axis were changed to the correct ones now)\n",
    "![image.png](MAPbI3_J_sc_AM1.5.png)\n",
    "- After looking at the equations from https://doi.org/10.1002/aenm.202100022 is was thought that the spectra had to be divided by it's corresponding band gap energy in each case, since $\\lambda/(hc)$ is an inverse energy. We currently did not include that in our $J_{sc}$ equation like I mentioned last week, but after me and Tom added the factor of $\\lambda$, it still gave the incorrect values.\n",
    "# Emailing Alex- plans forward\n",
    "- I wondered whether or not our disparity in values stemmed from our oversimplification from the very start upon writing the code, but this didn't seem to be the case. As Alex mentioned, she and her colleague realised that the issue came from the incorrect units in the spectrum. Our units for this were [Wm<sup>-2</sup>nm<sup>-1</sup>] but we needed it in photons [m<sup>-2</sup>nm<sup>-1</sup>s<sup>-1</sup>]. This is because we need to make the Watts into a flux, and at a particular wavelength, divide the irradiance by the energy, hence the extra $\\lambda$ we needed to fix the issue. Although we mentioned the equation having an extra factor of lambda the previous week, none of us realised about the process outlined above until now.\n",
    "- After this, the code will require multiplying the EQE (photons to electrons conversion) by q, the electron charge. This changes photons/s into amps(A). Next, integrating the equation as shown in week 4, which gets us the desired units as shown on the y-axis of the figure above. \n",
    "# Post changes being made\n",
    "- The $J_{sc}$ values are now somewhat in the correct magntiude of the reported ones, but lower, as expected. The $V_{oc}$ still follows the expected behaviour, hence the issue has been solved. Both my code, and Tom's, which are shown in the repository alongside the key output plots to accompany the changes made today. Now, we have the road open to add as much new EQE data as we want, and in the near future will be aiming at starting to investigate the location based dependence, the next mid term plan of the project."
   ]
  },
  {
   "cell_type": "markdown",
   "metadata": {},
   "source": [
    "# Week 10- "
   ]
  }
 ],
 "metadata": {
  "kernelspec": {
   "display_name": "Python 3",
   "language": "python",
   "name": "python3"
  },
  "language_info": {
   "codemirror_mode": {
    "name": "ipython",
    "version": 3
   },
   "file_extension": ".py",
   "mimetype": "text/x-python",
   "name": "python",
   "nbconvert_exporter": "python",
   "pygments_lexer": "ipython3",
   "version": "3.10.8"
  }
 },
 "nbformat": 4,
 "nbformat_minor": 2
}
